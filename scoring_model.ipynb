{
 "cells": [
  {
   "cell_type": "code",
   "execution_count": 61,
   "metadata": {
    "collapsed": true
   },
   "outputs": [],
   "source": [
    "from __future__ import print_function, division\n",
    "\n",
    "import numpy as np\n",
    "import pandas as pd\n",
    "\n",
    "import statsmodels.api as sm\n",
    "from scipy import stats\n",
    "\n",
    "import matplotlib.pyplot as plt\n",
    "import seaborn as sns\n",
    "import missingno as msno\n",
    "\n",
    "from sklearn.ensemble import RandomForestClassifier\n",
    "from sklearn.impute import SimpleImputer\n",
    "import warnings\n",
    "\n",
    "warnings.simplefilter(action='ignore', category=FutureWarning)\n",
    "warnings.simplefilter(action='ignore', category=UserWarning)\n",
    "sns.set()"
   ]
  },
  {
   "cell_type": "code",
   "execution_count": 62,
   "outputs": [
    {
     "name": "stderr",
     "output_type": "stream",
     "text": [
      "C:\\Users\\modze\\AppData\\Local\\Temp\\ipykernel_2592\\1343191915.py:2: DtypeWarning: Columns (12,34,38,67,80,82,83,89,90) have mixed types. Specify dtype option on import or set low_memory=False.\n",
      "  df = pd.read_csv(\"LoanData.csv\")\n"
     ]
    },
    {
     "name": "stdout",
     "output_type": "stream",
     "text": [
      "Wierszy: 290343\n",
      "Kolumn: 112\n"
     ]
    }
   ],
   "source": [
    "# Wczytanie danych z pliku csv\n",
    "df = pd.read_csv(\"LoanData.csv\")\n",
    "# Sprawdzenie wielkości danych\n",
    "print(f\"Wierszy: {df.shape[0]}\\nKolumn: {df.shape[1]}\")"
   ],
   "metadata": {
    "collapsed": false
   }
  },
  {
   "cell_type": "code",
   "execution_count": 63,
   "outputs": [
    {
     "name": "stdout",
     "output_type": "stream",
     "text": [
      "<class 'pandas.core.frame.DataFrame'>\n",
      "RangeIndex: 290343 entries, 0 to 290342\n",
      "Columns: 112 entries, ReportAsOfEOD to ActiveLateLastPaymentCategory\n",
      "dtypes: bool(3), float64(63), int64(11), object(35)\n",
      "memory usage: 242.3+ MB\n"
     ]
    }
   ],
   "source": [
    "df.info()"
   ],
   "metadata": {
    "collapsed": false
   }
  },
  {
   "cell_type": "code",
   "execution_count": 64,
   "outputs": [
    {
     "data": {
      "text/plain": "                                           count          mean            std  \\\nLoanNumber                              290343.0  1.857382e+06  971563.294130   \nBidsPortfolioManager                    290343.0  5.246259e+02    1035.875281   \nBidsApi                                 290343.0  1.744748e+01     116.719454   \nBidsManual                              290343.0  3.917444e+02     746.045047   \nApplicationSignedHour                   290343.0  1.334073e+01       4.986498   \n...                                          ...           ...            ...   \nPreviousEarlyRepaymentsCountBeforeLoan  290331.0  4.832071e-02       0.302239   \nNextPaymentNr                           161135.0  4.676439e+00       8.116658   \nNrOfScheduledPayments                   161135.0  7.119402e+01      31.848159   \nPrincipalDebtServicingCost               98226.0  1.298639e+01      90.216592   \nInterestAndPenaltyDebtServicingCost      98226.0  2.526758e+02     455.256041   \n\n                                         min       25%         50%  \\\nLoanNumber                              37.0  969601.5  2014461.00   \nBidsPortfolioManager                     0.0      38.0      139.00   \nBidsApi                                  0.0       0.0        0.00   \nBidsManual                               0.0      22.0      106.00   \nApplicationSignedHour                    0.0      10.0       13.00   \n...                                      ...       ...         ...   \nPreviousEarlyRepaymentsCountBeforeLoan   0.0       0.0        0.00   \nNextPaymentNr                            0.0       0.0        1.00   \nNrOfScheduledPayments                    1.0      57.0       60.00   \nPrincipalDebtServicingCost               0.0       0.0        0.00   \nInterestAndPenaltyDebtServicingCost      0.0       0.0       56.73   \n\n                                                75%         max  \nLoanNumber                              2606097.500  3603512.00  \nBidsPortfolioManager                        494.000    10625.00  \nBidsApi                                       2.000     7570.00  \nBidsManual                                  389.000    12971.00  \nApplicationSignedHour                        17.000       23.00  \n...                                             ...         ...  \nPreviousEarlyRepaymentsCountBeforeLoan        0.000       13.00  \nNextPaymentNr                                 5.000       60.00  \nNrOfScheduledPayments                       111.000      144.00  \nPrincipalDebtServicingCost                    0.000     3325.33  \nInterestAndPenaltyDebtServicingCost         294.005     7064.97  \n\n[74 rows x 8 columns]",
      "text/html": "<div>\n<style scoped>\n    .dataframe tbody tr th:only-of-type {\n        vertical-align: middle;\n    }\n\n    .dataframe tbody tr th {\n        vertical-align: top;\n    }\n\n    .dataframe thead th {\n        text-align: right;\n    }\n</style>\n<table border=\"1\" class=\"dataframe\">\n  <thead>\n    <tr style=\"text-align: right;\">\n      <th></th>\n      <th>count</th>\n      <th>mean</th>\n      <th>std</th>\n      <th>min</th>\n      <th>25%</th>\n      <th>50%</th>\n      <th>75%</th>\n      <th>max</th>\n    </tr>\n  </thead>\n  <tbody>\n    <tr>\n      <th>LoanNumber</th>\n      <td>290343.0</td>\n      <td>1.857382e+06</td>\n      <td>971563.294130</td>\n      <td>37.0</td>\n      <td>969601.5</td>\n      <td>2014461.00</td>\n      <td>2606097.500</td>\n      <td>3603512.00</td>\n    </tr>\n    <tr>\n      <th>BidsPortfolioManager</th>\n      <td>290343.0</td>\n      <td>5.246259e+02</td>\n      <td>1035.875281</td>\n      <td>0.0</td>\n      <td>38.0</td>\n      <td>139.00</td>\n      <td>494.000</td>\n      <td>10625.00</td>\n    </tr>\n    <tr>\n      <th>BidsApi</th>\n      <td>290343.0</td>\n      <td>1.744748e+01</td>\n      <td>116.719454</td>\n      <td>0.0</td>\n      <td>0.0</td>\n      <td>0.00</td>\n      <td>2.000</td>\n      <td>7570.00</td>\n    </tr>\n    <tr>\n      <th>BidsManual</th>\n      <td>290343.0</td>\n      <td>3.917444e+02</td>\n      <td>746.045047</td>\n      <td>0.0</td>\n      <td>22.0</td>\n      <td>106.00</td>\n      <td>389.000</td>\n      <td>12971.00</td>\n    </tr>\n    <tr>\n      <th>ApplicationSignedHour</th>\n      <td>290343.0</td>\n      <td>1.334073e+01</td>\n      <td>4.986498</td>\n      <td>0.0</td>\n      <td>10.0</td>\n      <td>13.00</td>\n      <td>17.000</td>\n      <td>23.00</td>\n    </tr>\n    <tr>\n      <th>...</th>\n      <td>...</td>\n      <td>...</td>\n      <td>...</td>\n      <td>...</td>\n      <td>...</td>\n      <td>...</td>\n      <td>...</td>\n      <td>...</td>\n    </tr>\n    <tr>\n      <th>PreviousEarlyRepaymentsCountBeforeLoan</th>\n      <td>290331.0</td>\n      <td>4.832071e-02</td>\n      <td>0.302239</td>\n      <td>0.0</td>\n      <td>0.0</td>\n      <td>0.00</td>\n      <td>0.000</td>\n      <td>13.00</td>\n    </tr>\n    <tr>\n      <th>NextPaymentNr</th>\n      <td>161135.0</td>\n      <td>4.676439e+00</td>\n      <td>8.116658</td>\n      <td>0.0</td>\n      <td>0.0</td>\n      <td>1.00</td>\n      <td>5.000</td>\n      <td>60.00</td>\n    </tr>\n    <tr>\n      <th>NrOfScheduledPayments</th>\n      <td>161135.0</td>\n      <td>7.119402e+01</td>\n      <td>31.848159</td>\n      <td>1.0</td>\n      <td>57.0</td>\n      <td>60.00</td>\n      <td>111.000</td>\n      <td>144.00</td>\n    </tr>\n    <tr>\n      <th>PrincipalDebtServicingCost</th>\n      <td>98226.0</td>\n      <td>1.298639e+01</td>\n      <td>90.216592</td>\n      <td>0.0</td>\n      <td>0.0</td>\n      <td>0.00</td>\n      <td>0.000</td>\n      <td>3325.33</td>\n    </tr>\n    <tr>\n      <th>InterestAndPenaltyDebtServicingCost</th>\n      <td>98226.0</td>\n      <td>2.526758e+02</td>\n      <td>455.256041</td>\n      <td>0.0</td>\n      <td>0.0</td>\n      <td>56.73</td>\n      <td>294.005</td>\n      <td>7064.97</td>\n    </tr>\n  </tbody>\n</table>\n<p>74 rows × 8 columns</p>\n</div>"
     },
     "execution_count": 64,
     "metadata": {},
     "output_type": "execute_result"
    }
   ],
   "source": [
    "df.describe().T"
   ],
   "metadata": {
    "collapsed": false
   }
  },
  {
   "cell_type": "code",
   "execution_count": null,
   "outputs": [
    {
     "data": {
      "text/plain": "                            Missing Values  Missing Values %\nDateOfBirth                         290343            100.00\nCounty                              290343            100.00\nCity                                290343            100.00\nEmploymentPosition                  290343            100.00\nEL_V0                               285774             98.43\n...                                    ...               ...\nPartyId                                  0              0.00\nLoanApplicationStartedDate               0              0.00\nApplicationSignedWeekday                 0              0.00\nApplicationSignedHour                    0              0.00\nReportAsOfEOD                            0              0.00\n\n[112 rows x 2 columns]",
      "text/html": "<div>\n<style scoped>\n    .dataframe tbody tr th:only-of-type {\n        vertical-align: middle;\n    }\n\n    .dataframe tbody tr th {\n        vertical-align: top;\n    }\n\n    .dataframe thead th {\n        text-align: right;\n    }\n</style>\n<table border=\"1\" class=\"dataframe\">\n  <thead>\n    <tr style=\"text-align: right;\">\n      <th></th>\n      <th>Missing Values</th>\n      <th>Missing Values %</th>\n    </tr>\n  </thead>\n  <tbody>\n    <tr>\n      <th>DateOfBirth</th>\n      <td>290343</td>\n      <td>100.00</td>\n    </tr>\n    <tr>\n      <th>County</th>\n      <td>290343</td>\n      <td>100.00</td>\n    </tr>\n    <tr>\n      <th>City</th>\n      <td>290343</td>\n      <td>100.00</td>\n    </tr>\n    <tr>\n      <th>EmploymentPosition</th>\n      <td>290343</td>\n      <td>100.00</td>\n    </tr>\n    <tr>\n      <th>EL_V0</th>\n      <td>285774</td>\n      <td>98.43</td>\n    </tr>\n    <tr>\n      <th>...</th>\n      <td>...</td>\n      <td>...</td>\n    </tr>\n    <tr>\n      <th>PartyId</th>\n      <td>0</td>\n      <td>0.00</td>\n    </tr>\n    <tr>\n      <th>LoanApplicationStartedDate</th>\n      <td>0</td>\n      <td>0.00</td>\n    </tr>\n    <tr>\n      <th>ApplicationSignedWeekday</th>\n      <td>0</td>\n      <td>0.00</td>\n    </tr>\n    <tr>\n      <th>ApplicationSignedHour</th>\n      <td>0</td>\n      <td>0.00</td>\n    </tr>\n    <tr>\n      <th>ReportAsOfEOD</th>\n      <td>0</td>\n      <td>0.00</td>\n    </tr>\n  </tbody>\n</table>\n<p>112 rows × 2 columns</p>\n</div>"
     },
     "execution_count": 65,
     "metadata": {},
     "output_type": "execute_result"
    }
   ],
   "source": [
    "\n",
    "na_half = df.shape[0] * 0.5\n",
    "na_thirty = df.shape[0] * 0.3\n",
    "\n",
    "na_table = df.isnull().sum().sort_values()\n",
    "na_plot = na_table.plot(kind=\"bar\", figsize=(10, 10))\n",
    "na_plot.axhline(na_half, c='g')\n",
    "na_plot.axhline(na_thirty, c='g')\n",
    "\n",
    "na_table = pd.DataFrame(data=na_table, columns=[\"Missing Values\"])\n",
    "na_table[\"Missing Values %\"] = round(na_table[\"Missing Values\"] / df.shape[0] * 100, 2)\n",
    "na_table.sort_values(by=[\"Missing Values %\"], ascending=False)"
   ],
   "metadata": {
    "collapsed": false,
    "pycharm": {
     "is_executing": true
    }
   }
  },
  {
   "cell_type": "code",
   "execution_count": null,
   "outputs": [],
   "source": [
    "# Usunięcie tabel z df, gdzie ilość braków jest większa niż 30%\n",
    "df = df[na_table[na_table[\"Missing Values %\"] < 30].index.tolist()]"
   ],
   "metadata": {
    "collapsed": false,
    "pycharm": {
     "is_executing": true
    }
   }
  },
  {
   "cell_type": "code",
   "execution_count": null,
   "outputs": [],
   "source": [
    "# Sortowanie danych po najmniejszej ilości braków\n",
    "df = df.sample(10000)"
   ],
   "metadata": {
    "collapsed": false,
    "pycharm": {
     "is_executing": true
    }
   }
  },
  {
   "cell_type": "code",
   "execution_count": null,
   "outputs": [],
   "source": [
    "# Wybranie 10 tysięcy rekordów wśród blisko 300 tysięcy istniejących"
   ],
   "metadata": {
    "collapsed": false,
    "pycharm": {
     "is_executing": true
    }
   }
  },
  {
   "cell_type": "code",
   "execution_count": null,
   "outputs": [],
   "source": [
    "df.to_csv(\"cut_data.csv\")"
   ],
   "metadata": {
    "collapsed": false,
    "pycharm": {
     "is_executing": true
    }
   }
  },
  {
   "cell_type": "code",
   "execution_count": null,
   "outputs": [],
   "source": [
    "df.describe()"
   ],
   "metadata": {
    "collapsed": false,
    "pycharm": {
     "is_executing": true
    }
   }
  },
  {
   "cell_type": "code",
   "execution_count": 60,
   "outputs": [],
   "source": [],
   "metadata": {
    "collapsed": false
   }
  }
 ],
 "metadata": {
  "kernelspec": {
   "display_name": "Python 3",
   "language": "python",
   "name": "python3"
  },
  "language_info": {
   "codemirror_mode": {
    "name": "ipython",
    "version": 2
   },
   "file_extension": ".py",
   "mimetype": "text/x-python",
   "name": "python",
   "nbconvert_exporter": "python",
   "pygments_lexer": "ipython2",
   "version": "2.7.6"
  }
 },
 "nbformat": 4,
 "nbformat_minor": 0
}
